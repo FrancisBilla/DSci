{
 "cells": [
  {
   "cell_type": "markdown",
   "metadata": {},
   "source": [
    "#AIR QUALITY ANALYSIS WITH OPEN DATA"
   ]
  },
  {
   "cell_type": "raw",
   "metadata": {},
   "source": [
    "There is a large body of research on the impact of Air pollution on human health and studies have conclusively shown that long-term exposure to Particulate matter(PM) increases mortality and morbidity and can lead to respiratory as well as cardiovascular diseases.\n"
   ]
  },
  {
   "cell_type": "raw",
   "metadata": {},
   "source": [
    "AIR QUALITY INDEX\n",
    "It is an index for reporting daily air quality. It tells how clean or polluted the air is, and what associated health effects might be a concern for people.\n"
   ]
  },
  {
   "cell_type": "markdown",
   "metadata": {},
   "source": [
    "Import Libraries for Exploratory Data Analysis"
   ]
  },
  {
   "cell_type": "code",
   "execution_count": 2,
   "metadata": {},
   "outputs": [],
   "source": [
    "import pandas as pd\n",
    "import numpy as np\n",
    "import matplotlib.pyplot as plt\n",
    "import seaborn as sns\n",
    "\n",
    "%matplotlib inline"
   ]
  },
  {
   "cell_type": "markdown",
   "metadata": {},
   "source": [
    "Loading and Reviewing Data"
   ]
  },
  {
   "cell_type": "code",
   "execution_count": 6,
   "metadata": {},
   "outputs": [],
   "source": [
    "airquality = pd.read_csv('./datathon18-master/air_quality.csv')"
   ]
  },
  {
   "cell_type": "code",
   "execution_count": 7,
   "metadata": {},
   "outputs": [
    {
     "name": "stdout",
     "output_type": "stream",
     "text": [
      "(1595, 13)\n"
     ]
    }
   ],
   "source": [
    "print(airquality.shape)"
   ]
  },
  {
   "cell_type": "code",
   "execution_count": 8,
   "metadata": {},
   "outputs": [
    {
     "data": {
      "text/html": [
       "<div>\n",
       "<style scoped>\n",
       "    .dataframe tbody tr th:only-of-type {\n",
       "        vertical-align: middle;\n",
       "    }\n",
       "\n",
       "    .dataframe tbody tr th {\n",
       "        vertical-align: top;\n",
       "    }\n",
       "\n",
       "    .dataframe thead th {\n",
       "        text-align: right;\n",
       "    }\n",
       "</style>\n",
       "<table border=\"1\" class=\"dataframe\">\n",
       "  <thead>\n",
       "    <tr style=\"text-align: right;\">\n",
       "      <th></th>\n",
       "      <th>date</th>\n",
       "      <th>parameter</th>\n",
       "      <th>location</th>\n",
       "      <th>value</th>\n",
       "      <th>unit</th>\n",
       "      <th>city</th>\n",
       "      <th>attribution</th>\n",
       "      <th>averagingperiod</th>\n",
       "      <th>coordinates</th>\n",
       "      <th>country</th>\n",
       "      <th>sourcename</th>\n",
       "      <th>sourcetype</th>\n",
       "      <th>mobile</th>\n",
       "    </tr>\n",
       "  </thead>\n",
       "  <tbody>\n",
       "    <tr>\n",
       "      <th>0</th>\n",
       "      <td>{utc=2006-11-13T06:42:00.000Z, local=2006-11-1...</td>\n",
       "      <td>pm25</td>\n",
       "      <td>JTA - Jamestown</td>\n",
       "      <td>115.56</td>\n",
       "      <td>µg/m³</td>\n",
       "      <td>Accra</td>\n",
       "      <td>[{name=Dr. Raphael E. Arku and Colleagues, url...</td>\n",
       "      <td>{unit=hours, value=48.0}</td>\n",
       "      <td>{latitude=5.540114, longitude=-0.2103972}</td>\n",
       "      <td>GH</td>\n",
       "      <td>Dr. Raphael E. Arku and Colleagues</td>\n",
       "      <td>research</td>\n",
       "      <td>False</td>\n",
       "    </tr>\n",
       "    <tr>\n",
       "      <th>1</th>\n",
       "      <td>{utc=2006-11-13T06:42:00.000Z, local=2006-11-1...</td>\n",
       "      <td>pm10</td>\n",
       "      <td>JTA - Jamestown</td>\n",
       "      <td>161.09</td>\n",
       "      <td>µg/m³</td>\n",
       "      <td>Accra</td>\n",
       "      <td>[{name=Dr. Raphael E. Arku and Colleagues, url...</td>\n",
       "      <td>{unit=hours, value=48.0}</td>\n",
       "      <td>{latitude=5.540114, longitude=-0.2103972}</td>\n",
       "      <td>GH</td>\n",
       "      <td>Dr. Raphael E. Arku and Colleagues</td>\n",
       "      <td>research</td>\n",
       "      <td>False</td>\n",
       "    </tr>\n",
       "    <tr>\n",
       "      <th>2</th>\n",
       "      <td>{utc=2006-11-13T07:13:00.000Z, local=2006-11-1...</td>\n",
       "      <td>pm25</td>\n",
       "      <td>JTC - Jamestown</td>\n",
       "      <td>104.80</td>\n",
       "      <td>µg/m³</td>\n",
       "      <td>Accra</td>\n",
       "      <td>[{name=Dr. Raphael E. Arku and Colleagues, url...</td>\n",
       "      <td>{unit=hours, value=48.0}</td>\n",
       "      <td>{latitude=5.5349193, longitude=-0.2124056}</td>\n",
       "      <td>GH</td>\n",
       "      <td>Dr. Raphael E. Arku and Colleagues</td>\n",
       "      <td>research</td>\n",
       "      <td>False</td>\n",
       "    </tr>\n",
       "    <tr>\n",
       "      <th>3</th>\n",
       "      <td>{utc=2006-11-13T07:13:00.000Z, local=2006-11-1...</td>\n",
       "      <td>pm10</td>\n",
       "      <td>JTC - Jamestown</td>\n",
       "      <td>187.21</td>\n",
       "      <td>µg/m³</td>\n",
       "      <td>Accra</td>\n",
       "      <td>[{name=Dr. Raphael E. Arku and Colleagues, url...</td>\n",
       "      <td>{unit=hours, value=48.0}</td>\n",
       "      <td>{latitude=5.5349193, longitude=-0.2124056}</td>\n",
       "      <td>GH</td>\n",
       "      <td>Dr. Raphael E. Arku and Colleagues</td>\n",
       "      <td>research</td>\n",
       "      <td>False</td>\n",
       "    </tr>\n",
       "    <tr>\n",
       "      <th>4</th>\n",
       "      <td>{utc=2006-11-13T07:31:00.000Z, local=2006-11-1...</td>\n",
       "      <td>pm25</td>\n",
       "      <td>JTT - Jamestown</td>\n",
       "      <td>86.29</td>\n",
       "      <td>µg/m³</td>\n",
       "      <td>Accra</td>\n",
       "      <td>[{name=Dr. Raphael E. Arku and Colleagues, url...</td>\n",
       "      <td>{unit=hours, value=48.0}</td>\n",
       "      <td>{latitude=5.5334554, longitude=-0.2129917}</td>\n",
       "      <td>GH</td>\n",
       "      <td>Dr. Raphael E. Arku and Colleagues</td>\n",
       "      <td>research</td>\n",
       "      <td>False</td>\n",
       "    </tr>\n",
       "  </tbody>\n",
       "</table>\n",
       "</div>"
      ],
      "text/plain": [
       "                                                date parameter  \\\n",
       "0  {utc=2006-11-13T06:42:00.000Z, local=2006-11-1...      pm25   \n",
       "1  {utc=2006-11-13T06:42:00.000Z, local=2006-11-1...      pm10   \n",
       "2  {utc=2006-11-13T07:13:00.000Z, local=2006-11-1...      pm25   \n",
       "3  {utc=2006-11-13T07:13:00.000Z, local=2006-11-1...      pm10   \n",
       "4  {utc=2006-11-13T07:31:00.000Z, local=2006-11-1...      pm25   \n",
       "\n",
       "          location   value   unit   city  \\\n",
       "0  JTA - Jamestown  115.56  µg/m³  Accra   \n",
       "1  JTA - Jamestown  161.09  µg/m³  Accra   \n",
       "2  JTC - Jamestown  104.80  µg/m³  Accra   \n",
       "3  JTC - Jamestown  187.21  µg/m³  Accra   \n",
       "4  JTT - Jamestown   86.29  µg/m³  Accra   \n",
       "\n",
       "                                         attribution  \\\n",
       "0  [{name=Dr. Raphael E. Arku and Colleagues, url...   \n",
       "1  [{name=Dr. Raphael E. Arku and Colleagues, url...   \n",
       "2  [{name=Dr. Raphael E. Arku and Colleagues, url...   \n",
       "3  [{name=Dr. Raphael E. Arku and Colleagues, url...   \n",
       "4  [{name=Dr. Raphael E. Arku and Colleagues, url...   \n",
       "\n",
       "            averagingperiod                                 coordinates  \\\n",
       "0  {unit=hours, value=48.0}   {latitude=5.540114, longitude=-0.2103972}   \n",
       "1  {unit=hours, value=48.0}   {latitude=5.540114, longitude=-0.2103972}   \n",
       "2  {unit=hours, value=48.0}  {latitude=5.5349193, longitude=-0.2124056}   \n",
       "3  {unit=hours, value=48.0}  {latitude=5.5349193, longitude=-0.2124056}   \n",
       "4  {unit=hours, value=48.0}  {latitude=5.5334554, longitude=-0.2129917}   \n",
       "\n",
       "  country                          sourcename sourcetype  mobile  \n",
       "0      GH  Dr. Raphael E. Arku and Colleagues   research   False  \n",
       "1      GH  Dr. Raphael E. Arku and Colleagues   research   False  \n",
       "2      GH  Dr. Raphael E. Arku and Colleagues   research   False  \n",
       "3      GH  Dr. Raphael E. Arku and Colleagues   research   False  \n",
       "4      GH  Dr. Raphael E. Arku and Colleagues   research   False  "
      ]
     },
     "execution_count": 8,
     "metadata": {},
     "output_type": "execute_result"
    }
   ],
   "source": [
    "airquality.head()"
   ]
  },
  {
   "cell_type": "code",
   "execution_count": 9,
   "metadata": {},
   "outputs": [
    {
     "data": {
      "text/html": [
       "<div>\n",
       "<style scoped>\n",
       "    .dataframe tbody tr th:only-of-type {\n",
       "        vertical-align: middle;\n",
       "    }\n",
       "\n",
       "    .dataframe tbody tr th {\n",
       "        vertical-align: top;\n",
       "    }\n",
       "\n",
       "    .dataframe thead th {\n",
       "        text-align: right;\n",
       "    }\n",
       "</style>\n",
       "<table border=\"1\" class=\"dataframe\">\n",
       "  <thead>\n",
       "    <tr style=\"text-align: right;\">\n",
       "      <th></th>\n",
       "      <th>date</th>\n",
       "      <th>parameter</th>\n",
       "      <th>location</th>\n",
       "      <th>value</th>\n",
       "      <th>unit</th>\n",
       "      <th>city</th>\n",
       "      <th>attribution</th>\n",
       "      <th>averagingperiod</th>\n",
       "      <th>coordinates</th>\n",
       "      <th>country</th>\n",
       "      <th>sourcename</th>\n",
       "      <th>sourcetype</th>\n",
       "      <th>mobile</th>\n",
       "    </tr>\n",
       "  </thead>\n",
       "  <tbody>\n",
       "    <tr>\n",
       "      <th>1590</th>\n",
       "      <td>{utc=2008-08-17T07:20:00.000Z, local=2008-08-1...</td>\n",
       "      <td>pm25</td>\n",
       "      <td>ELA - East Legon</td>\n",
       "      <td>17.92</td>\n",
       "      <td>µg/m³</td>\n",
       "      <td>Accra</td>\n",
       "      <td>[{name=Dr. Raphael E. Arku and Colleagues, url...</td>\n",
       "      <td>{unit=hours, value=49.0}</td>\n",
       "      <td>{latitude=5.640814, longitude=-0.1579063}</td>\n",
       "      <td>GH</td>\n",
       "      <td>Dr. Raphael E. Arku and Colleagues</td>\n",
       "      <td>research</td>\n",
       "      <td>False</td>\n",
       "    </tr>\n",
       "    <tr>\n",
       "      <th>1591</th>\n",
       "      <td>{utc=2008-08-17T07:20:00.000Z, local=2008-08-1...</td>\n",
       "      <td>pm10</td>\n",
       "      <td>ELA - East Legon</td>\n",
       "      <td>34.95</td>\n",
       "      <td>µg/m³</td>\n",
       "      <td>Accra</td>\n",
       "      <td>[{name=Dr. Raphael E. Arku and Colleagues, url...</td>\n",
       "      <td>{unit=hours, value=49.0}</td>\n",
       "      <td>{latitude=5.640814, longitude=-0.1579063}</td>\n",
       "      <td>GH</td>\n",
       "      <td>Dr. Raphael E. Arku and Colleagues</td>\n",
       "      <td>research</td>\n",
       "      <td>False</td>\n",
       "    </tr>\n",
       "    <tr>\n",
       "      <th>1592</th>\n",
       "      <td>{utc=2008-08-17T07:51:00.000Z, local=2008-08-1...</td>\n",
       "      <td>pm10</td>\n",
       "      <td>NMT - Nima</td>\n",
       "      <td>56.05</td>\n",
       "      <td>µg/m³</td>\n",
       "      <td>Accra</td>\n",
       "      <td>[{name=Dr. Raphael E. Arku and Colleagues, url...</td>\n",
       "      <td>{unit=hours, value=48.0}</td>\n",
       "      <td>{latitude=5.58165, longitude=-0.19898}</td>\n",
       "      <td>GH</td>\n",
       "      <td>Dr. Raphael E. Arku and Colleagues</td>\n",
       "      <td>research</td>\n",
       "      <td>False</td>\n",
       "    </tr>\n",
       "    <tr>\n",
       "      <th>1593</th>\n",
       "      <td>{utc=2008-08-17T08:08:00.000Z, local=2008-08-1...</td>\n",
       "      <td>pm25</td>\n",
       "      <td>NMA - Nima</td>\n",
       "      <td>24.66</td>\n",
       "      <td>µg/m³</td>\n",
       "      <td>Accra</td>\n",
       "      <td>[{name=Dr. Raphael E. Arku and Colleagues, url...</td>\n",
       "      <td>{unit=hours, value=47.0}</td>\n",
       "      <td>{latitude=5.58389, longitude=-0.19968}</td>\n",
       "      <td>GH</td>\n",
       "      <td>Dr. Raphael E. Arku and Colleagues</td>\n",
       "      <td>research</td>\n",
       "      <td>False</td>\n",
       "    </tr>\n",
       "    <tr>\n",
       "      <th>1594</th>\n",
       "      <td>{utc=2008-08-17T08:08:00.000Z, local=2008-08-1...</td>\n",
       "      <td>pm10</td>\n",
       "      <td>NMA - Nima</td>\n",
       "      <td>43.61</td>\n",
       "      <td>µg/m³</td>\n",
       "      <td>Accra</td>\n",
       "      <td>[{name=Dr. Raphael E. Arku and Colleagues, url...</td>\n",
       "      <td>{unit=hours, value=47.0}</td>\n",
       "      <td>{latitude=5.58389, longitude=-0.19968}</td>\n",
       "      <td>GH</td>\n",
       "      <td>Dr. Raphael E. Arku and Colleagues</td>\n",
       "      <td>research</td>\n",
       "      <td>False</td>\n",
       "    </tr>\n",
       "  </tbody>\n",
       "</table>\n",
       "</div>"
      ],
      "text/plain": [
       "                                                   date parameter  \\\n",
       "1590  {utc=2008-08-17T07:20:00.000Z, local=2008-08-1...      pm25   \n",
       "1591  {utc=2008-08-17T07:20:00.000Z, local=2008-08-1...      pm10   \n",
       "1592  {utc=2008-08-17T07:51:00.000Z, local=2008-08-1...      pm10   \n",
       "1593  {utc=2008-08-17T08:08:00.000Z, local=2008-08-1...      pm25   \n",
       "1594  {utc=2008-08-17T08:08:00.000Z, local=2008-08-1...      pm10   \n",
       "\n",
       "              location  value   unit   city  \\\n",
       "1590  ELA - East Legon  17.92  µg/m³  Accra   \n",
       "1591  ELA - East Legon  34.95  µg/m³  Accra   \n",
       "1592        NMT - Nima  56.05  µg/m³  Accra   \n",
       "1593        NMA - Nima  24.66  µg/m³  Accra   \n",
       "1594        NMA - Nima  43.61  µg/m³  Accra   \n",
       "\n",
       "                                            attribution  \\\n",
       "1590  [{name=Dr. Raphael E. Arku and Colleagues, url...   \n",
       "1591  [{name=Dr. Raphael E. Arku and Colleagues, url...   \n",
       "1592  [{name=Dr. Raphael E. Arku and Colleagues, url...   \n",
       "1593  [{name=Dr. Raphael E. Arku and Colleagues, url...   \n",
       "1594  [{name=Dr. Raphael E. Arku and Colleagues, url...   \n",
       "\n",
       "               averagingperiod                                coordinates  \\\n",
       "1590  {unit=hours, value=49.0}  {latitude=5.640814, longitude=-0.1579063}   \n",
       "1591  {unit=hours, value=49.0}  {latitude=5.640814, longitude=-0.1579063}   \n",
       "1592  {unit=hours, value=48.0}     {latitude=5.58165, longitude=-0.19898}   \n",
       "1593  {unit=hours, value=47.0}     {latitude=5.58389, longitude=-0.19968}   \n",
       "1594  {unit=hours, value=47.0}     {latitude=5.58389, longitude=-0.19968}   \n",
       "\n",
       "     country                          sourcename sourcetype  mobile  \n",
       "1590      GH  Dr. Raphael E. Arku and Colleagues   research   False  \n",
       "1591      GH  Dr. Raphael E. Arku and Colleagues   research   False  \n",
       "1592      GH  Dr. Raphael E. Arku and Colleagues   research   False  \n",
       "1593      GH  Dr. Raphael E. Arku and Colleagues   research   False  \n",
       "1594      GH  Dr. Raphael E. Arku and Colleagues   research   False  "
      ]
     },
     "execution_count": 9,
     "metadata": {},
     "output_type": "execute_result"
    }
   ],
   "source": [
    "airquality.tail(5)"
   ]
  },
  {
   "cell_type": "code",
   "execution_count": 11,
   "metadata": {},
   "outputs": [
    {
     "data": {
      "text/html": [
       "<div>\n",
       "<style scoped>\n",
       "    .dataframe tbody tr th:only-of-type {\n",
       "        vertical-align: middle;\n",
       "    }\n",
       "\n",
       "    .dataframe tbody tr th {\n",
       "        vertical-align: top;\n",
       "    }\n",
       "\n",
       "    .dataframe thead th {\n",
       "        text-align: right;\n",
       "    }\n",
       "</style>\n",
       "<table border=\"1\" class=\"dataframe\">\n",
       "  <thead>\n",
       "    <tr style=\"text-align: right;\">\n",
       "      <th></th>\n",
       "      <th>value</th>\n",
       "    </tr>\n",
       "  </thead>\n",
       "  <tbody>\n",
       "    <tr>\n",
       "      <th>count</th>\n",
       "      <td>1595.000000</td>\n",
       "    </tr>\n",
       "    <tr>\n",
       "      <th>mean</th>\n",
       "      <td>101.386320</td>\n",
       "    </tr>\n",
       "    <tr>\n",
       "      <th>std</th>\n",
       "      <td>184.735572</td>\n",
       "    </tr>\n",
       "    <tr>\n",
       "      <th>min</th>\n",
       "      <td>0.000000</td>\n",
       "    </tr>\n",
       "    <tr>\n",
       "      <th>25%</th>\n",
       "      <td>33.315000</td>\n",
       "    </tr>\n",
       "    <tr>\n",
       "      <th>50%</th>\n",
       "      <td>55.430000</td>\n",
       "    </tr>\n",
       "    <tr>\n",
       "      <th>75%</th>\n",
       "      <td>103.050000</td>\n",
       "    </tr>\n",
       "    <tr>\n",
       "      <th>max</th>\n",
       "      <td>4142.900000</td>\n",
       "    </tr>\n",
       "  </tbody>\n",
       "</table>\n",
       "</div>"
      ],
      "text/plain": [
       "             value\n",
       "count  1595.000000\n",
       "mean    101.386320\n",
       "std     184.735572\n",
       "min       0.000000\n",
       "25%      33.315000\n",
       "50%      55.430000\n",
       "75%     103.050000\n",
       "max    4142.900000"
      ]
     },
     "execution_count": 11,
     "metadata": {},
     "output_type": "execute_result"
    }
   ],
   "source": [
    "airquality.describe()"
   ]
  },
  {
   "cell_type": "code",
   "execution_count": 12,
   "metadata": {},
   "outputs": [
    {
     "data": {
      "text/plain": [
       "mobile\n",
       "False    1595\n",
       "dtype: int64"
      ]
     },
     "execution_count": 12,
     "metadata": {},
     "output_type": "execute_result"
    }
   ],
   "source": [
    "airquality.groupby('mobile').size()"
   ]
  },
  {
   "cell_type": "markdown",
   "metadata": {},
   "source": [
    "Checking for Null Values"
   ]
  },
  {
   "cell_type": "code",
   "execution_count": 13,
   "metadata": {},
   "outputs": [
    {
     "data": {
      "text/plain": [
       "False"
      ]
     },
     "execution_count": 13,
     "metadata": {},
     "output_type": "execute_result"
    }
   ],
   "source": [
    "airquality.isnull().values.any()"
   ]
  },
  {
   "cell_type": "markdown",
   "metadata": {},
   "source": [
    "Data Types and Graphs for Visualization"
   ]
  },
  {
   "cell_type": "code",
   "execution_count": 14,
   "metadata": {},
   "outputs": [
    {
     "name": "stderr",
     "output_type": "stream",
     "text": [
      "C:\\Users\\ORION\\Anaconda3\\lib\\site-packages\\matplotlib\\axes\\_axes.py:6462: UserWarning: The 'normed' kwarg is deprecated, and has been replaced by the 'density' kwarg.\n",
      "  warnings.warn(\"The 'normed' kwarg is deprecated, and has been \"\n"
     ]
    },
    {
     "data": {
      "text/plain": [
       "<matplotlib.axes._subplots.AxesSubplot at 0x2b9486ef470>"
      ]
     },
     "execution_count": 14,
     "metadata": {},
     "output_type": "execute_result"
    },
    {
     "data": {
      "image/png": "[encoded data removed]",
      "text/plain": [
       "<Figure size 432x288 with 1 Axes>"
      ]
     },
     "metadata": {},
     "output_type": "display_data"
    }
   ],
   "source": [
    "sns.distplot(airquality.value)"
   ]
  },
  {
   "cell_type": "markdown",
   "metadata": {},
   "source": [
    "        Correlation of Numerical Variables"
   ]
  },
  {
   "cell_type": "code",
   "execution_count": 15,
   "metadata": {},
   "outputs": [
    {
     "data": {
      "text/html": [
       "<div>\n",
       "<style scoped>\n",
       "    .dataframe tbody tr th:only-of-type {\n",
       "        vertical-align: middle;\n",
       "    }\n",
       "\n",
       "    .dataframe tbody tr th {\n",
       "        vertical-align: top;\n",
       "    }\n",
       "\n",
       "    .dataframe thead th {\n",
       "        text-align: right;\n",
       "    }\n",
       "</style>\n",
       "<table border=\"1\" class=\"dataframe\">\n",
       "  <thead>\n",
       "    <tr style=\"text-align: right;\">\n",
       "      <th></th>\n",
       "      <th>value</th>\n",
       "      <th>mobile</th>\n",
       "    </tr>\n",
       "  </thead>\n",
       "  <tbody>\n",
       "    <tr>\n",
       "      <th>value</th>\n",
       "      <td>1.0</td>\n",
       "      <td>NaN</td>\n",
       "    </tr>\n",
       "    <tr>\n",
       "      <th>mobile</th>\n",
       "      <td>NaN</td>\n",
       "      <td>NaN</td>\n",
       "    </tr>\n",
       "  </tbody>\n",
       "</table>\n",
       "</div>"
      ],
      "text/plain": [
       "        value  mobile\n",
       "value     1.0     NaN\n",
       "mobile    NaN     NaN"
      ]
     },
     "execution_count": 15,
     "metadata": {},
     "output_type": "execute_result"
    }
   ],
   "source": [
    "airquality.corr()"
   ]
  },
  {
   "cell_type": "code",
   "execution_count": null,
   "metadata": {},
   "outputs": [],
   "source": [
    "Ff"
   ]
  }
 ],
 "metadata": {
  "kernelspec": {
   "display_name": "Python 3",
   "language": "python",
   "name": "python3"
  },
  "language_info": {
   "codemirror_mode": {
    "name": "ipython",
    "version": 3
   },
   "file_extension": ".py",
   "mimetype": "text/x-python",
   "name": "python",
   "nbconvert_exporter": "python",
   "pygments_lexer": "ipython3",
   "version": "3.7.3"
  }
 },
 "nbformat": 4,
 "nbformat_minor": 2
}
